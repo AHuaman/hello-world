{
 "cells": [
  {
   "cell_type": "markdown",
   "metadata": {},
   "source": [
    "# Explorando el dataset MNIST de reconocimiento de dígitos"
   ]
  },
  {
   "cell_type": "code",
   "execution_count": 1,
   "metadata": {},
   "outputs": [],
   "source": [
    "import numpy as np\n",
    "import pandas as pd"
   ]
  },
  {
   "cell_type": "code",
   "execution_count": 2,
   "metadata": {},
   "outputs": [],
   "source": [
    "\n",
    "x = pd.DataFrame(data = {'X':[1,2,3], 'Y':[4,5,6]})"
   ]
  },
  {
   "cell_type": "code",
   "execution_count": 3,
   "metadata": {},
   "outputs": [
    {
     "data": {
      "text/html": [
       "<div>\n",
       "<style scoped>\n",
       "    .dataframe tbody tr th:only-of-type {\n",
       "        vertical-align: middle;\n",
       "    }\n",
       "\n",
       "    .dataframe tbody tr th {\n",
       "        vertical-align: top;\n",
       "    }\n",
       "\n",
       "    .dataframe thead th {\n",
       "        text-align: right;\n",
       "    }\n",
       "</style>\n",
       "<table border=\"1\" class=\"dataframe\">\n",
       "  <thead>\n",
       "    <tr style=\"text-align: right;\">\n",
       "      <th></th>\n",
       "      <th>X</th>\n",
       "      <th>Y</th>\n",
       "    </tr>\n",
       "  </thead>\n",
       "  <tbody>\n",
       "    <tr>\n",
       "      <th>0</th>\n",
       "      <td>1</td>\n",
       "      <td>4</td>\n",
       "    </tr>\n",
       "    <tr>\n",
       "      <th>1</th>\n",
       "      <td>2</td>\n",
       "      <td>5</td>\n",
       "    </tr>\n",
       "    <tr>\n",
       "      <th>2</th>\n",
       "      <td>3</td>\n",
       "      <td>6</td>\n",
       "    </tr>\n",
       "  </tbody>\n",
       "</table>\n",
       "</div>"
      ],
      "text/plain": [
       "   X  Y\n",
       "0  1  4\n",
       "1  2  5\n",
       "2  3  6"
      ]
     },
     "execution_count": 3,
     "metadata": {},
     "output_type": "execute_result"
    }
   ],
   "source": [
    "x"
   ]
  },
  {
   "cell_type": "raw",
   "metadata": {},
   "source": [
    "# Ejercicio: Dataset MNIST para clasificación de imágenes:"
   ]
  },
  {
   "cell_type": "code",
   "execution_count": 4,
   "metadata": {},
   "outputs": [
    {
     "name": "stderr",
     "output_type": "stream",
     "text": [
      "C:\\Users\\huama\\AppData\\Local\\Continuum\\anaconda3\\lib\\site-packages\\h5py\\__init__.py:36: FutureWarning: Conversion of the second argument of issubdtype from `float` to `np.floating` is deprecated. In future, it will be treated as `np.float64 == np.dtype(float).type`.\n",
      "  from ._conv import register_converters as _register_converters\n",
      "Using TensorFlow backend.\n"
     ]
    }
   ],
   "source": [
    "import math\n",
    "import numpy as np\n",
    "import pandas as pd\n",
    "import matplotlib.pyplot as plt\n",
    "\n",
    "from sklearn.preprocessing import StandardScaler\n",
    "from keras.datasets import mnist\n",
    "\n",
    "\n",
    "%matplotlib inline"
   ]
  },
  {
   "cell_type": "code",
   "execution_count": 5,
   "metadata": {},
   "outputs": [],
   "source": [
    "(x_train, y_train), (x_test, y_test)=mnist.load_data()\n"
   ]
  },
  {
   "cell_type": "code",
   "execution_count": 6,
   "metadata": {},
   "outputs": [
    {
     "name": "stdout",
     "output_type": "stream",
     "text": [
      "4\n"
     ]
    },
    {
     "data": {
      "image/png": "[encoded data removed]",
      "text/plain": [
       "<Figure size 432x288 with 1 Axes>"
      ]
     },
     "metadata": {},
     "output_type": "display_data"
    }
   ],
   "source": [
    "# Visualizamos parte de la información disponible:\n",
    "plt.imshow(x_train[2], 'gray')\n",
    "print(y_train[2])"
   ]
  },
  {
   "cell_type": "code",
   "execution_count": 7,
   "metadata": {},
   "outputs": [
    {
     "data": {
      "text/plain": [
       "((60000, 28, 28), (10000, 28, 28), (60000,), (10000,))"
      ]
     },
     "execution_count": 7,
     "metadata": {},
     "output_type": "execute_result"
    }
   ],
   "source": [
    "x_train.shape, x_test.shape, y_train.shape, y_test.shape"
   ]
  },
  {
   "cell_type": "code",
   "execution_count": 8,
   "metadata": {},
   "outputs": [
    {
     "data": {
      "text/plain": [
       "array([[[-1.01940251, -0.87665736],\n",
       "        [ 0.05078155,  1.04001121],\n",
       "        [ 0.16245861, -0.84944716]],\n",
       "\n",
       "       [[ 0.8560556 ,  0.62664396],\n",
       "        [-0.91457766, -1.0926775 ],\n",
       "        [-0.13621568,  1.54255937]]])"
      ]
     },
     "execution_count": 8,
     "metadata": {},
     "output_type": "execute_result"
    }
   ],
   "source": [
    "# Probando el funcionamiento de los diversos métodos de reshaing de numpy:\n",
    "aoc = np.array(np.random.normal(size = 12)).reshape([2,3,2])\n",
    "aoc"
   ]
  },
  {
   "cell_type": "code",
   "execution_count": 9,
   "metadata": {},
   "outputs": [
    {
     "data": {
      "text/plain": [
       "array([[-1.01940251, -0.87665736,  0.05078155,  1.04001121,  0.16245861,\n",
       "        -0.84944716],\n",
       "       [ 0.8560556 ,  0.62664396, -0.91457766, -1.0926775 , -0.13621568,\n",
       "         1.54255937]])"
      ]
     },
     "execution_count": 9,
     "metadata": {},
     "output_type": "execute_result"
    }
   ],
   "source": [
    "aoc = aoc.reshape([2,3*2])\n",
    "aoc"
   ]
  },
  {
   "cell_type": "code",
   "execution_count": 10,
   "metadata": {},
   "outputs": [
    {
     "data": {
      "text/plain": [
       "((60000, 28, 28), (10000, 28, 28))"
      ]
     },
     "execution_count": 10,
     "metadata": {},
     "output_type": "execute_result"
    }
   ],
   "source": [
    "x_train.shape, x_test.shape"
   ]
  },
  {
   "cell_type": "markdown",
   "metadata": {},
   "source": [
    "Le damos un formato **\"largo\"** a la matriz que representa la imagen con el fin de poder ingresarlo en una red neuronal:"
   ]
  },
  {
   "cell_type": "code",
   "execution_count": 11,
   "metadata": {},
   "outputs": [
    {
     "data": {
      "text/plain": [
       "((60000, 784), (10000, 784), (60000,), (10000,))"
      ]
     },
     "execution_count": 11,
     "metadata": {},
     "output_type": "execute_result"
    }
   ],
   "source": [
    "# Debemos estirar los datos para generar un vector para poder estandarizar y luego realizar\n",
    "# el diseño de las capas:\n",
    "\n",
    "x_train = x_train.reshape([60000, 28*28])\n",
    "x_test = x_test.reshape([10000, 28*28])\n",
    "\n",
    "x_train.shape, x_test.shape, y_train.shape, y_test.shape"
   ]
  },
  {
   "cell_type": "code",
   "execution_count": 12,
   "metadata": {},
   "outputs": [
    {
     "data": {
      "text/plain": [
       "(-3.064638490070051e-17,\n",
       " 0.0060177948928480576,\n",
       " 0.9999999999999998,\n",
       " 1.0077000453879372)"
      ]
     },
     "execution_count": 12,
     "metadata": {},
     "output_type": "execute_result"
    }
   ],
   "source": [
    "# Normalización\n",
    "mu = x_train.mean()\n",
    "sigma = x_train.std()\n",
    "\n",
    "x_train = (x_train - mu) / sigma\n",
    "x_test = (x_test - mu) / sigma\n",
    "\n",
    "x_train.mean(), x_test.mean(), x_train.std(), x_test.std()"
   ]
  },
  {
   "cell_type": "code",
   "execution_count": 13,
   "metadata": {},
   "outputs": [
    {
     "data": {
      "text/plain": [
       "<matplotlib.image.AxesImage at 0x2738000c080>"
      ]
     },
     "execution_count": 13,
     "metadata": {},
     "output_type": "execute_result"
    },
    {
     "data": {
      "image/png": "[encoded data removed]",
      "text/plain": [
       "<Figure size 432x288 with 1 Axes>"
      ]
     },
     "metadata": {},
     "output_type": "display_data"
    }
   ],
   "source": [
    "# Podemos volrer a visualizar la imagen si reescalamos el vector a una matriz :)\n",
    "plt.imshow(x_train[5].reshape([28,28]))"
   ]
  },
  {
   "cell_type": "markdown",
   "metadata": {},
   "source": [
    "# Ahora definimos un modelo sencillo para clasificar imágenes\n",
    "Nuestro modelo se basará en un perceptrón múltiple con activación RELU, Leaky RELU y Sigmoidal en la ultima capa. La idea es ir iterando para verificar cómo varía la función de pérdida \"Cross-Entropy\""
   ]
  },
  {
   "cell_type": "code",
   "execution_count": 81,
   "metadata": {},
   "outputs": [
    {
     "name": "stdout",
     "output_type": "stream",
     "text": [
      "_________________________________________________________________\n",
      "Layer (type)                 Output Shape              Param #   \n",
      "=================================================================\n",
      "dense_4 (Dense)              (None, 128)               100480    \n",
      "_________________________________________________________________\n",
      "dense_5 (Dense)              (None, 64)                8256      \n",
      "_________________________________________________________________\n",
      "dense_6 (Dense)              (None, 10)                650       \n",
      "=================================================================\n",
      "Total params: 109,386\n",
      "Trainable params: 109,386\n",
      "Non-trainable params: 0\n",
      "_________________________________________________________________\n"
     ]
    }
   ],
   "source": [
    "from keras.models import Sequential\n",
    "from keras.layers import Dense\n",
    "from keras.optimizers import SGD # El más básico\n",
    "\n",
    "# Establecemos los hiperparámetros:\n",
    "lr = 0.01 # por default\n",
    "batch_size = 256 # Es la cantidad de imágenes que se van a pasar COMO UN SOLO GRUPO en cada iteración\n",
    "epochs=100 # Es la cantidad de iteraciones que se van a realizar. Se suelen limitar por temas de tiempo de procesamiento\n",
    "num_batches = np.ceil(x_train.shape[0] / batch_size) # El número de GRUPOS que se pasarán en caso entrenemos todo el dataset\n",
    "\n",
    "model = Sequential([\n",
    "    Dense(128, activation='relu', input_shape=(784,)),\n",
    "    Dense(64, activation='relu'),\n",
    "    Dense(10, activation='softmax')\n",
    "])\n",
    "\n",
    "model.compile(SGD(lr=lr), loss='sparse_categorical_crossentropy', metrics=['accuracy'])\n",
    "\n",
    "model.summary()"
   ]
  },
  {
   "cell_type": "markdown",
   "metadata": {},
   "source": [
    "## Experimento:\n",
    "\n",
    "La idea es entrenar el modelo utilizando un ratio arbitrario de aprendizaje (en este caso, 0.01) y entrenar un modelo. A continuación, entrenar otro modelo utilizando la técnica de **learning rate finder** y comparar los resultados en términos de precisión.\n",
    "\n",
    "Para ello, primero definiremos una función que nos permitirá obtener las gráficas adecuadas para poder realizar la comparación:"
   ]
  },
  {
   "cell_type": "code",
   "execution_count": 82,
   "metadata": {},
   "outputs": [],
   "source": [
    "# Definiendo la función de graficación:\n",
    "\n",
    "def show_results(model, log, cycling = False):\n",
    "    \"\"\"Esta función permite visualizar la evolución del valor de la función de pérdida y la precisión en los sets de\n",
    "    entrenamiento y validación, a lo largo de las iteraciones propias del proceso de entrenamiento\"\"\"\n",
    "    loss, acc = model.evaluate(x=x_test, y=y_test, batch_size = 512) # Este bs es arbitrario\n",
    "    \n",
    "    print(f'Final Loss Value = {loss:.4f}')\n",
    "    print(f'Final Accuracy   = {acc:.4f}')\n",
    "    \n",
    "    # Valores en el set de validación\n",
    "    val_loss = log.history['val_loss']\n",
    "    val_acc  = log.history['val_acc']\n",
    "    \n",
    "    # Si guardar los valores de las iteraciones:\n",
    "    if cycling:\n",
    "        val_loss += [loss]\n",
    "        val_acc += [acc]\n",
    "    \n",
    "    # Parámetros gráficos:\n",
    "    fig, axes = plt.subplots(1, 2, figsize = (14,4))\n",
    "    ax1, ax2 = axes\n",
    "    ax1.plot(log.history['loss'], label = 'train')\n",
    "    ax1.plot(val_loss, label = 'test')\n",
    "    ax1.set_xlabel('epoch'); ax1.set_ylabel('loss')\n",
    "    ax2.plot(log.history['acc'], label = 'train')\n",
    "    ax2.plot(val_acc, label = 'test')\n",
    "    ax2.set_xlabel('epoch'); ax2.set_ylabel('loss')\n",
    "    \n",
    "    for ax in axes: ax.legend() # También podría cambiarse por ax1.legend() y ax2.legend(), pero esto es más general!\n"
   ]
  },
  {
   "cell_type": "markdown",
   "metadata": {},
   "source": [
    "Entrenando el primer modelo:"
   ]
  },
  {
   "cell_type": "code",
   "execution_count": 83,
   "metadata": {
    "scrolled": false
   },
   "outputs": [
    {
     "name": "stdout",
     "output_type": "stream",
     "text": [
      "Train on 60000 samples, validate on 10000 samples\n",
      "Epoch 1/100\n",
      "60000/60000 [==============================] - 1s 21us/step - loss: 0.8806 - acc: 0.7469 - val_loss: 0.4342 - val_acc: 0.8816\n",
      "Epoch 2/100\n",
      "60000/60000 [==============================] - 1s 19us/step - loss: 0.3891 - acc: 0.8909 - val_loss: 0.3300 - val_acc: 0.9064\n",
      "Epoch 3/100\n",
      "60000/60000 [==============================] - 1s 19us/step - loss: 0.3194 - acc: 0.9090 - val_loss: 0.2896 - val_acc: 0.9175\n",
      "Epoch 4/100\n",
      "60000/60000 [==============================] - 1s 22us/step - loss: 0.2824 - acc: 0.9190 - val_loss: 0.2622 - val_acc: 0.9240\n",
      "Epoch 5/100\n",
      "60000/60000 [==============================] - 2s 26us/step - loss: 0.2568 - acc: 0.9259 - val_loss: 0.2427 - val_acc: 0.9291\n",
      "Epoch 6/100\n",
      "60000/60000 [==============================] - 1s 25us/step - loss: 0.2371 - acc: 0.9318 - val_loss: 0.2295 - val_acc: 0.9344\n",
      "Epoch 7/100\n",
      "60000/60000 [==============================] - 1s 21us/step - loss: 0.2208 - acc: 0.9364 - val_loss: 0.2162 - val_acc: 0.9355\n",
      "Epoch 8/100\n",
      "60000/60000 [==============================] - 1s 20us/step - loss: 0.2070 - acc: 0.9399 - val_loss: 0.2025 - val_acc: 0.9413\n",
      "Epoch 9/100\n",
      "60000/60000 [==============================] - 1s 21us/step - loss: 0.1954 - acc: 0.9429 - val_loss: 0.1939 - val_acc: 0.9427\n",
      "Epoch 10/100\n",
      "60000/60000 [==============================] - 2s 27us/step - loss: 0.1850 - acc: 0.9467 - val_loss: 0.1852 - val_acc: 0.9448\n",
      "Epoch 11/100\n",
      "60000/60000 [==============================] - 2s 28us/step - loss: 0.1758 - acc: 0.9490 - val_loss: 0.1796 - val_acc: 0.9466\n",
      "Epoch 12/100\n",
      "60000/60000 [==============================] - 2s 27us/step - loss: 0.1677 - acc: 0.9520 - val_loss: 0.1708 - val_acc: 0.9500\n",
      "Epoch 13/100\n",
      "60000/60000 [==============================] - 1s 22us/step - loss: 0.1604 - acc: 0.9538 - val_loss: 0.1640 - val_acc: 0.9516\n",
      "Epoch 14/100\n",
      "60000/60000 [==============================] - 1s 20us/step - loss: 0.1536 - acc: 0.9555 - val_loss: 0.1603 - val_acc: 0.9526\n",
      "Epoch 15/100\n",
      "60000/60000 [==============================] - 1s 20us/step - loss: 0.1477 - acc: 0.9574 - val_loss: 0.1548 - val_acc: 0.9535\n",
      "Epoch 16/100\n",
      "60000/60000 [==============================] - 1s 20us/step - loss: 0.1420 - acc: 0.9593 - val_loss: 0.1500 - val_acc: 0.9554\n",
      "Epoch 17/100\n",
      "60000/60000 [==============================] - 1s 20us/step - loss: 0.1371 - acc: 0.9609 - val_loss: 0.1465 - val_acc: 0.9566\n",
      "Epoch 18/100\n",
      "60000/60000 [==============================] - 1s 20us/step - loss: 0.1322 - acc: 0.9621 - val_loss: 0.1424 - val_acc: 0.9565\n",
      "Epoch 19/100\n",
      "60000/60000 [==============================] - 1s 20us/step - loss: 0.1278 - acc: 0.9635 - val_loss: 0.1394 - val_acc: 0.9582\n",
      "Epoch 20/100\n",
      "60000/60000 [==============================] - 1s 19us/step - loss: 0.1236 - acc: 0.9646 - val_loss: 0.1348 - val_acc: 0.9601\n",
      "Epoch 21/100\n",
      "60000/60000 [==============================] - 1s 19us/step - loss: 0.1198 - acc: 0.9659 - val_loss: 0.1326 - val_acc: 0.9604\n",
      "Epoch 22/100\n",
      "60000/60000 [==============================] - 1s 20us/step - loss: 0.1162 - acc: 0.9671 - val_loss: 0.1301 - val_acc: 0.9602\n",
      "Epoch 23/100\n",
      "60000/60000 [==============================] - 1s 23us/step - loss: 0.1128 - acc: 0.9676 - val_loss: 0.1263 - val_acc: 0.9614\n",
      "Epoch 24/100\n",
      "60000/60000 [==============================] - 1s 22us/step - loss: 0.1096 - acc: 0.9685 - val_loss: 0.1241 - val_acc: 0.9629\n",
      "Epoch 25/100\n",
      "60000/60000 [==============================] - 1s 22us/step - loss: 0.1066 - acc: 0.9692 - val_loss: 0.1229 - val_acc: 0.9638\n",
      "Epoch 26/100\n",
      "60000/60000 [==============================] - 1s 22us/step - loss: 0.1037 - acc: 0.9704 - val_loss: 0.1200 - val_acc: 0.9641\n",
      "Epoch 27/100\n",
      "60000/60000 [==============================] - 1s 23us/step - loss: 0.1009 - acc: 0.9711 - val_loss: 0.1185 - val_acc: 0.9631\n",
      "Epoch 28/100\n",
      "60000/60000 [==============================] - 2s 26us/step - loss: 0.0985 - acc: 0.9721 - val_loss: 0.1161 - val_acc: 0.9650\n",
      "Epoch 29/100\n",
      "60000/60000 [==============================] - 2s 28us/step - loss: 0.0960 - acc: 0.9728 - val_loss: 0.1151 - val_acc: 0.9649\n",
      "Epoch 30/100\n",
      "60000/60000 [==============================] - 2s 25us/step - loss: 0.0935 - acc: 0.9737 - val_loss: 0.1118 - val_acc: 0.9648\n",
      "Epoch 31/100\n",
      "60000/60000 [==============================] - 1s 23us/step - loss: 0.0914 - acc: 0.9743 - val_loss: 0.1100 - val_acc: 0.9658\n",
      "Epoch 32/100\n",
      "60000/60000 [==============================] - 1s 23us/step - loss: 0.0892 - acc: 0.9750 - val_loss: 0.1088 - val_acc: 0.9664\n",
      "Epoch 33/100\n",
      "60000/60000 [==============================] - 1s 23us/step - loss: 0.0871 - acc: 0.9755 - val_loss: 0.1076 - val_acc: 0.9662\n",
      "Epoch 34/100\n",
      "60000/60000 [==============================] - 1s 24us/step - loss: 0.0852 - acc: 0.9762 - val_loss: 0.1072 - val_acc: 0.9673\n",
      "Epoch 35/100\n",
      "60000/60000 [==============================] - 1s 24us/step - loss: 0.0832 - acc: 0.9767 - val_loss: 0.1042 - val_acc: 0.9670\n",
      "Epoch 36/100\n",
      "60000/60000 [==============================] - 1s 23us/step - loss: 0.0814 - acc: 0.9776 - val_loss: 0.1025 - val_acc: 0.9677\n",
      "Epoch 37/100\n",
      "60000/60000 [==============================] - 1s 23us/step - loss: 0.0796 - acc: 0.9776 - val_loss: 0.1015 - val_acc: 0.9678\n",
      "Epoch 38/100\n",
      "60000/60000 [==============================] - 1s 22us/step - loss: 0.0780 - acc: 0.9782 - val_loss: 0.1016 - val_acc: 0.9682\n",
      "Epoch 39/100\n",
      "60000/60000 [==============================] - 1s 22us/step - loss: 0.0763 - acc: 0.9786 - val_loss: 0.1004 - val_acc: 0.9686\n",
      "Epoch 40/100\n",
      "60000/60000 [==============================] - 1s 22us/step - loss: 0.0747 - acc: 0.9789 - val_loss: 0.0992 - val_acc: 0.9695\n",
      "Epoch 41/100\n",
      "60000/60000 [==============================] - 1s 22us/step - loss: 0.0732 - acc: 0.9794 - val_loss: 0.0981 - val_acc: 0.9688\n",
      "Epoch 42/100\n",
      "60000/60000 [==============================] - 1s 23us/step - loss: 0.0717 - acc: 0.9800 - val_loss: 0.0972 - val_acc: 0.9694\n",
      "Epoch 43/100\n",
      "60000/60000 [==============================] - 1s 22us/step - loss: 0.0703 - acc: 0.9803 - val_loss: 0.0960 - val_acc: 0.9696\n",
      "Epoch 44/100\n",
      "60000/60000 [==============================] - 1s 22us/step - loss: 0.0689 - acc: 0.9808 - val_loss: 0.0948 - val_acc: 0.9695\n",
      "Epoch 45/100\n",
      "60000/60000 [==============================] - 1s 22us/step - loss: 0.0676 - acc: 0.9810 - val_loss: 0.0938 - val_acc: 0.9707\n",
      "Epoch 46/100\n",
      "60000/60000 [==============================] - 1s 23us/step - loss: 0.0664 - acc: 0.9814 - val_loss: 0.0936 - val_acc: 0.9703\n",
      "Epoch 47/100\n",
      "60000/60000 [==============================] - 1s 23us/step - loss: 0.0650 - acc: 0.9818 - val_loss: 0.0926 - val_acc: 0.9710\n",
      "Epoch 48/100\n",
      "60000/60000 [==============================] - 1s 23us/step - loss: 0.0639 - acc: 0.9824 - val_loss: 0.0922 - val_acc: 0.9708\n",
      "Epoch 49/100\n",
      "60000/60000 [==============================] - 1s 22us/step - loss: 0.0626 - acc: 0.9827 - val_loss: 0.0907 - val_acc: 0.9711\n",
      "Epoch 50/100\n",
      "60000/60000 [==============================] - 1s 23us/step - loss: 0.0614 - acc: 0.9831 - val_loss: 0.0903 - val_acc: 0.9712\n",
      "Epoch 51/100\n",
      "60000/60000 [==============================] - 2s 25us/step - loss: 0.0604 - acc: 0.9832 - val_loss: 0.0910 - val_acc: 0.9715\n",
      "Epoch 52/100\n",
      "60000/60000 [==============================] - 1s 24us/step - loss: 0.0593 - acc: 0.9838 - val_loss: 0.0888 - val_acc: 0.9713\n",
      "Epoch 53/100\n",
      "60000/60000 [==============================] - 1s 24us/step - loss: 0.0581 - acc: 0.9839 - val_loss: 0.0891 - val_acc: 0.9716\n",
      "Epoch 54/100\n",
      "60000/60000 [==============================] - 1s 23us/step - loss: 0.0571 - acc: 0.9839 - val_loss: 0.0888 - val_acc: 0.9712\n",
      "Epoch 55/100\n",
      "60000/60000 [==============================] - 1s 22us/step - loss: 0.0561 - acc: 0.9849 - val_loss: 0.0880 - val_acc: 0.9718\n",
      "Epoch 56/100\n",
      "60000/60000 [==============================] - 1s 24us/step - loss: 0.0552 - acc: 0.9849 - val_loss: 0.0869 - val_acc: 0.9723\n",
      "Epoch 57/100\n",
      "60000/60000 [==============================] - 1s 23us/step - loss: 0.0541 - acc: 0.9853 - val_loss: 0.0873 - val_acc: 0.9724\n",
      "Epoch 58/100\n",
      "60000/60000 [==============================] - 1s 23us/step - loss: 0.0532 - acc: 0.9858 - val_loss: 0.0863 - val_acc: 0.9718\n",
      "Epoch 59/100\n",
      "60000/60000 [==============================] - 1s 23us/step - loss: 0.0523 - acc: 0.9861 - val_loss: 0.0858 - val_acc: 0.9732\n",
      "Epoch 60/100\n",
      "60000/60000 [==============================] - 1s 22us/step - loss: 0.0514 - acc: 0.9865 - val_loss: 0.0845 - val_acc: 0.9731\n",
      "Epoch 61/100\n",
      "60000/60000 [==============================] - 1s 22us/step - loss: 0.0505 - acc: 0.9867 - val_loss: 0.0842 - val_acc: 0.9736\n",
      "Epoch 62/100\n",
      "60000/60000 [==============================] - 1s 22us/step - loss: 0.0498 - acc: 0.9871 - val_loss: 0.0839 - val_acc: 0.9731\n",
      "Epoch 63/100\n",
      "60000/60000 [==============================] - 1s 22us/step - loss: 0.0489 - acc: 0.9872 - val_loss: 0.0833 - val_acc: 0.9739\n",
      "Epoch 64/100\n",
      "60000/60000 [==============================] - 1s 22us/step - loss: 0.0482 - acc: 0.9874 - val_loss: 0.0839 - val_acc: 0.9743\n",
      "Epoch 65/100\n",
      "60000/60000 [==============================] - 1s 22us/step - loss: 0.0473 - acc: 0.9882 - val_loss: 0.0826 - val_acc: 0.9738\n",
      "Epoch 66/100\n",
      "60000/60000 [==============================] - ETA: 0s - loss: 0.0467 - acc: 0.988 - 1s 22us/step - loss: 0.0465 - acc: 0.9882 - val_loss: 0.0827 - val_acc: 0.9739\n",
      "Epoch 67/100\n",
      "60000/60000 [==============================] - 1s 22us/step - loss: 0.0458 - acc: 0.9883 - val_loss: 0.0820 - val_acc: 0.9743\n",
      "Epoch 68/100\n",
      "60000/60000 [==============================] - 1s 22us/step - loss: 0.0451 - acc: 0.9888 - val_loss: 0.0822 - val_acc: 0.9749\n",
      "Epoch 69/100\n",
      "60000/60000 [==============================] - 1s 22us/step - loss: 0.0443 - acc: 0.9887 - val_loss: 0.0826 - val_acc: 0.9738\n",
      "Epoch 70/100\n",
      "60000/60000 [==============================] - 1s 23us/step - loss: 0.0436 - acc: 0.9890 - val_loss: 0.0814 - val_acc: 0.9739\n",
      "Epoch 71/100\n",
      "60000/60000 [==============================] - 1s 22us/step - loss: 0.0430 - acc: 0.9891 - val_loss: 0.0808 - val_acc: 0.9750\n",
      "Epoch 72/100\n",
      "60000/60000 [==============================] - 1s 23us/step - loss: 0.0422 - acc: 0.9894 - val_loss: 0.0815 - val_acc: 0.9744\n",
      "Epoch 73/100\n",
      "60000/60000 [==============================] - 1s 23us/step - loss: 0.0416 - acc: 0.9896 - val_loss: 0.0805 - val_acc: 0.9747\n",
      "Epoch 74/100\n",
      "60000/60000 [==============================] - 1s 24us/step - loss: 0.0410 - acc: 0.9898 - val_loss: 0.0801 - val_acc: 0.9754\n",
      "Epoch 75/100\n",
      "60000/60000 [==============================] - 1s 22us/step - loss: 0.0404 - acc: 0.9901 - val_loss: 0.0798 - val_acc: 0.9751\n",
      "Epoch 76/100\n",
      "60000/60000 [==============================] - 1s 22us/step - loss: 0.0396 - acc: 0.9902 - val_loss: 0.0802 - val_acc: 0.9757\n",
      "Epoch 77/100\n",
      "60000/60000 [==============================] - 1s 23us/step - loss: 0.0391 - acc: 0.9903 - val_loss: 0.0793 - val_acc: 0.9753\n",
      "Epoch 78/100\n",
      "60000/60000 [==============================] - 1s 23us/step - loss: 0.0384 - acc: 0.9906 - val_loss: 0.0798 - val_acc: 0.9754\n",
      "Epoch 79/100\n",
      "60000/60000 [==============================] - 1s 23us/step - loss: 0.0379 - acc: 0.9909 - val_loss: 0.0793 - val_acc: 0.9749\n",
      "Epoch 80/100\n",
      "60000/60000 [==============================] - 1s 24us/step - loss: 0.0373 - acc: 0.9910 - val_loss: 0.0790 - val_acc: 0.9753\n",
      "Epoch 81/100\n",
      "60000/60000 [==============================] - 1s 23us/step - loss: 0.0368 - acc: 0.9911 - val_loss: 0.0784 - val_acc: 0.9759\n",
      "Epoch 82/100\n",
      "60000/60000 [==============================] - 1s 22us/step - loss: 0.0362 - acc: 0.9911 - val_loss: 0.0785 - val_acc: 0.9755\n",
      "Epoch 83/100\n",
      "60000/60000 [==============================] - 1s 22us/step - loss: 0.0357 - acc: 0.9914 - val_loss: 0.0781 - val_acc: 0.9759\n",
      "Epoch 84/100\n",
      "60000/60000 [==============================] - 1s 22us/step - loss: 0.0351 - acc: 0.9914 - val_loss: 0.0789 - val_acc: 0.9759\n",
      "Epoch 85/100\n",
      "60000/60000 [==============================] - 2s 29us/step - loss: 0.0346 - acc: 0.9917 - val_loss: 0.0784 - val_acc: 0.9752\n",
      "Epoch 86/100\n",
      "60000/60000 [==============================] - 2s 32us/step - loss: 0.0341 - acc: 0.9920 - val_loss: 0.0778 - val_acc: 0.9756\n",
      "Epoch 87/100\n",
      "60000/60000 [==============================] - 2s 31us/step - loss: 0.0336 - acc: 0.9922 - val_loss: 0.0774 - val_acc: 0.9760\n",
      "Epoch 88/100\n",
      "60000/60000 [==============================] - 2s 29us/step - loss: 0.0331 - acc: 0.9922 - val_loss: 0.0774 - val_acc: 0.9759\n",
      "Epoch 89/100\n",
      "60000/60000 [==============================] - 2s 26us/step - loss: 0.0326 - acc: 0.9924 - val_loss: 0.0772 - val_acc: 0.9764\n",
      "Epoch 90/100\n",
      "60000/60000 [==============================] - 1s 25us/step - loss: 0.0322 - acc: 0.9926 - val_loss: 0.0774 - val_acc: 0.9762\n",
      "Epoch 91/100\n",
      "60000/60000 [==============================] - 2s 26us/step - loss: 0.0316 - acc: 0.9928 - val_loss: 0.0769 - val_acc: 0.9770\n",
      "Epoch 92/100\n",
      "60000/60000 [==============================] - 2s 26us/step - loss: 0.0312 - acc: 0.9929 - val_loss: 0.0781 - val_acc: 0.9756\n",
      "Epoch 93/100\n",
      "60000/60000 [==============================] - 1s 25us/step - loss: 0.0308 - acc: 0.9930 - val_loss: 0.0769 - val_acc: 0.9761\n",
      "Epoch 94/100\n",
      "60000/60000 [==============================] - 1s 24us/step - loss: 0.0303 - acc: 0.9933 - val_loss: 0.0765 - val_acc: 0.9767\n",
      "Epoch 95/100\n",
      "60000/60000 [==============================] - 1s 24us/step - loss: 0.0298 - acc: 0.9933 - val_loss: 0.0770 - val_acc: 0.9762\n",
      "Epoch 96/100\n",
      "60000/60000 [==============================] - 1s 24us/step - loss: 0.0294 - acc: 0.9933 - val_loss: 0.0756 - val_acc: 0.9771\n",
      "Epoch 97/100\n",
      "60000/60000 [==============================] - 1s 24us/step - loss: 0.0291 - acc: 0.9936 - val_loss: 0.0764 - val_acc: 0.9761\n",
      "Epoch 98/100\n",
      "60000/60000 [==============================] - 2s 27us/step - loss: 0.0287 - acc: 0.9937 - val_loss: 0.0762 - val_acc: 0.9765\n",
      "Epoch 99/100\n",
      "60000/60000 [==============================] - 2s 25us/step - loss: 0.0282 - acc: 0.9938 - val_loss: 0.0764 - val_acc: 0.9760\n",
      "Epoch 100/100\n",
      "60000/60000 [==============================] - 2s 27us/step - loss: 0.0279 - acc: 0.9940 - val_loss: 0.0760 - val_acc: 0.9764\n"
     ]
    }
   ],
   "source": [
    "# Entrenamos nuestro modelo:\n",
    "log=model.fit(x=x_train, y=y_train, batch_size=batch_size, epochs=100, validation_data=[x_test, y_test])"
   ]
  },
  {
   "cell_type": "code",
   "execution_count": 84,
   "metadata": {
    "scrolled": false
   },
   "outputs": [
    {
     "name": "stdout",
     "output_type": "stream",
     "text": [
      "10000/10000 [==============================] - 0s 12us/step\n",
      "Final Loss Value = 0.0760\n",
      "Final Accuracy   = 0.9764\n"
     ]
    },
    {
     "data": {
      "image/png": "[encoded data removed]",
      "text/plain": [
       "<Figure size 1008x288 with 2 Axes>"
      ]
     },
     "metadata": {},
     "output_type": "display_data"
    }
   ],
   "source": [
    "# Ploteamos los resultados del primer modelo:\n",
    "show_results(model = model, log=log, cycling=False)"
   ]
  },
  {
   "cell_type": "markdown",
   "metadata": {},
   "source": [
    "Ahora elaboramos una nuevo modelo de predicción que tome en cuenta a la técnica de *Learning Rate Finder* para decidir el valor del hiperparámetro **lr (learning rate)**:"
   ]
  },
  {
   "cell_type": "code",
   "execution_count": 46,
   "metadata": {},
   "outputs": [],
   "source": [
    "# %load C:/Users/huama/Desktop/Proyectos Python/Clases DL PUCP/semana3/custom_callbacks.py\n",
    "import keras, math\n",
    "import numpy as np\n",
    "import keras.backend as K\n",
    "import matplotlib.pyplot as plt\n",
    "from pathlib import Path\n",
    "\n",
    "def reset_weights(model):\n",
    "    session = K.get_session()\n",
    "    for layer in model.layers: \n",
    "        if hasattr(layer, 'kernel_initializer'): layer.kernel.initializer.run(session=session)\n",
    "        if hasattr(layer, 'bias'):\n",
    "            if layer.bias and hasattr(layer, 'bias_initializer'): layer.bias.initializer.run(session=session)\n",
    "\n",
    "class CycleLearner(keras.callbacks.Callback):\n",
    "    def __init__(self, lr, nb, n_cycle, cycle_len=1, cycle_mult=1,\n",
    "                 snapshots=False, n_snapshots=5,\n",
    "                 snapshots_name='temp_model', snapshots_folder='snapshots'):\n",
    "        super().__init__()\n",
    "        self.lr = lr\n",
    "        self.nb = nb*cycle_len\n",
    "        self.n_cycle = n_cycle\n",
    "        self.cycle_len = cycle_len\n",
    "        self.cycle_mult = cycle_mult\n",
    "        self.snapshots = snapshots\n",
    "        self.n_snapshots = n_snapshots\n",
    "        self.start_snaps = n_cycle - n_snapshots\n",
    "        self.snapshots_name = snapshots_name\n",
    "        self.snapshots_folder = Path(snapshots_folder)\n",
    "        self.lr_log = []\n",
    "        self.losses = []\n",
    "        self.iterations = []\n",
    "        if snapshots: self.snapshots_folder.mkdir(exist_ok=True)\n",
    "\n",
    "    def on_train_begin(self, logs={}):\n",
    "        self.iteration,self.epoch = 0,0\n",
    "        self.cycle_iter,self.cycle_count=0,0\n",
    "        self.update_lr()\n",
    "    \n",
    "    def on_epoch_end(self, epoch, logs=None):\n",
    "        self.epoch += 1\n",
    "\n",
    "    def on_batch_end(self, batch, logs={}):\n",
    "        self.iteration += 1\n",
    "        self.lr_log.append(K.eval(self.model.optimizer.lr))\n",
    "        loss = logs.get('loss')\n",
    "        self.losses.append(loss)\n",
    "        self.iterations.append(self.iteration)\n",
    "        self.update_lr()\n",
    "        if self.cycle_count == self.n_cycle:\n",
    "            self.model.stop_training = True\n",
    "    \n",
    "    def on_cycle_end(self):\n",
    "        self.cycle_iter = 0\n",
    "        self.nb *= self.cycle_mult\n",
    "        self.cycle_count += 1\n",
    "        if self.snapshots and self.cycle_count>self.start_snaps:\n",
    "            file = self.snapshots_folder / f'{self.snapshots_name}_{self.cycle_count}.hdf5'\n",
    "            self.model.save_weights(file, overwrite=True)\n",
    "    \n",
    "    def update_lr(self):\n",
    "        new_lr = self.calc_lr()\n",
    "        K.set_value(self.model.optimizer.lr, new_lr)\n",
    "\n",
    "    def calc_lr(self):\n",
    "        if self.iteration<self.nb/20:\n",
    "            self.cycle_iter += 1\n",
    "            return self.lr/100.\n",
    "\n",
    "        cos_out = np.cos(np.pi*(self.cycle_iter)/self.nb) + 1\n",
    "        self.cycle_iter += 1\n",
    "        if self.cycle_iter==self.nb:\n",
    "            self.on_cycle_end()\n",
    "            \n",
    "        return self.lr / 2 * cos_out        \n",
    "        \n",
    "    def plot_loss(self, skip=10):\n",
    "        plt.plot(self.iterations[skip:], self.losses[skip:])\n",
    "\n",
    "    def plot_lr(self):\n",
    "        plt.xlabel(\"iterations\")\n",
    "        plt.ylabel(\"learning rate\")\n",
    "        plt.plot(self.iterations, self.lr_log)\n",
    "\n",
    "\n",
    "class LrFinder(keras.callbacks.Callback):\n",
    "    def __init__(self, nb, start_lr=1e-5, end_lr=10):\n",
    "        super().__init__()\n",
    "        self.start_lr = start_lr\n",
    "        self.lr = start_lr\n",
    "        self.lr_mult = (end_lr/start_lr)**(1/nb)\n",
    "        self.lr_log = []\n",
    "        self.losses = []\n",
    "        self.iterations = []\n",
    "        \n",
    "    def on_train_begin(self, logs={}):\n",
    "        self.best = 1e9\n",
    "        self.iteration = 0\n",
    "        self.update_lr()\n",
    "\n",
    "    def on_batch_end(self, batch, logs={}):\n",
    "        self.iteration += 1\n",
    "        self.lr_log.append(K.eval(self.model.optimizer.lr))\n",
    "        loss = logs.get('loss')\n",
    "        self.losses.append(loss)\n",
    "        self.iterations.append(self.iteration)\n",
    "\n",
    "        if math.isnan(loss) or loss>self.best*4:\n",
    "            self.model.stop_training = True\n",
    "        if loss<self.best:\n",
    "            self.best=loss\n",
    "        self.update_lr()\n",
    "    \n",
    "    def update_lr(self):\n",
    "        new_lr = self.start_lr * (self.lr_mult**self.iteration)\n",
    "        K.set_value(self.model.optimizer.lr, new_lr)\n",
    "        \n",
    "    def plot_loss(self):\n",
    "        plt.plot(self.iterations[10:], self.losses[10:])\n",
    "\n",
    "    def plot_lr(self):\n",
    "        plt.xlabel(\"iterations\")\n",
    "        plt.ylabel(\"learning rate\")\n",
    "        plt.plot(self.iterations, self.lr_log)\n",
    "        \n",
    "    def plot(self, n_skip_start=2, xlim=None, ylim=None):\n",
    "        plt.ylabel(\"loss\")\n",
    "        plt.xlabel(\"learning rate (log scale)\")\n",
    "        plt.plot(self.lr_log[n_skip_start:], self.losses[n_skip_start:])\n",
    "        plt.xscale('log')\n",
    "        if ylim is not None: plt.ylim(top=ylim)\n",
    "        if xlim is not None: plt.xlim(right=xlim)\n",
    "        "
   ]
  },
  {
   "cell_type": "code",
   "execution_count": 88,
   "metadata": {},
   "outputs": [
    {
     "name": "stdout",
     "output_type": "stream",
     "text": [
      "_________________________________________________________________\n",
      "Layer (type)                 Output Shape              Param #   \n",
      "=================================================================\n",
      "dense_10 (Dense)             (None, 128)               100480    \n",
      "_________________________________________________________________\n",
      "dense_11 (Dense)             (None, 64)                8256      \n",
      "_________________________________________________________________\n",
      "dense_12 (Dense)             (None, 10)                650       \n",
      "=================================================================\n",
      "Total params: 109,386\n",
      "Trainable params: 109,386\n",
      "Non-trainable params: 0\n",
      "_________________________________________________________________\n",
      "Epoch 1/1\n",
      "45056/60000 [=====================>........] - ETA: 0s - loss: 2.0027 - acc: 0.3137"
     ]
    },
    {
     "data": {
      "text/plain": [
       "<keras.callbacks.History at 0x27381bdd828>"
      ]
     },
     "execution_count": 88,
     "metadata": {},
     "output_type": "execute_result"
    }
   ],
   "source": [
    "# Compilamos un nuevo modelo para realizar las comparaciones adecuadas con el modelo 1:\n",
    "\n",
    "model_2 = Sequential([\n",
    "    Dense(128, activation='relu', input_shape=(784,)),\n",
    "    Dense(64, activation='relu'),\n",
    "    Dense(10, activation='softmax')\n",
    "])\n",
    "\n",
    "model_2.compile(SGD(lr=lr), loss='sparse_categorical_crossentropy', metrics=['accuracy'])\n",
    "\n",
    "model_2.summary()\n",
    "\n",
    "lr_finder = LrFinder(num_batches)\n",
    "model_2.fit(x=x_train, y=y_train, batch_size=batch_size, callbacks=[lr_finder]) # Ajuste simple para sacar las graficas"
   ]
  },
  {
   "cell_type": "code",
   "execution_count": 89,
   "metadata": {},
   "outputs": [
    {
     "data": {
      "image/png": "[encoded data removed]",
      "text/plain": [
       "<Figure size 432x288 with 1 Axes>"
      ]
     },
     "metadata": {},
     "output_type": "display_data"
    }
   ],
   "source": [
    "lr_finder.plot_lr()"
   ]
  },
  {
   "cell_type": "code",
   "execution_count": 90,
   "metadata": {},
   "outputs": [
    {
     "data": {
      "image/png": "[encoded data removed]",
      "text/plain": [
       "<Figure size 432x288 with 1 Axes>"
      ]
     },
     "metadata": {},
     "output_type": "display_data"
    }
   ],
   "source": [
    "lr_finder.plot()"
   ]
  },
  {
   "cell_type": "code",
   "execution_count": 93,
   "metadata": {},
   "outputs": [
    {
     "name": "stdout",
     "output_type": "stream",
     "text": [
      "Train on 60000 samples, validate on 10000 samples\n",
      "Epoch 1/100\n",
      "60000/60000 [==============================] - 1s 25us/step - loss: 0.5700 - acc: 0.8331 - val_loss: 0.2974 - val_acc: 0.9117\n",
      "Epoch 2/100\n",
      "60000/60000 [==============================] - 1s 22us/step - loss: 0.2723 - acc: 0.9195 - val_loss: 0.2642 - val_acc: 0.9186\n",
      "Epoch 3/100\n",
      "60000/60000 [==============================] - 1s 24us/step - loss: 0.2193 - acc: 0.9358 - val_loss: 0.1969 - val_acc: 0.9420\n",
      "Epoch 4/100\n",
      "60000/60000 [==============================] - 2s 40us/step - loss: 0.1871 - acc: 0.9453 - val_loss: 0.1811 - val_acc: 0.9439\n",
      "Epoch 5/100\n",
      "60000/60000 [==============================] - 2s 34us/step - loss: 0.1653 - acc: 0.9529 - val_loss: 0.1545 - val_acc: 0.9532\n",
      "Epoch 6/100\n",
      "60000/60000 [==============================] - 1s 24us/step - loss: 0.1477 - acc: 0.9575 - val_loss: 0.1490 - val_acc: 0.9541\n",
      "Epoch 7/100\n",
      "60000/60000 [==============================] - 2s 29us/step - loss: 0.1344 - acc: 0.9616 - val_loss: 0.1319 - val_acc: 0.9616\n",
      "Epoch 8/100\n",
      "60000/60000 [==============================] - 2s 40us/step - loss: 0.1228 - acc: 0.9651 - val_loss: 0.1277 - val_acc: 0.9610\n",
      "Epoch 9/100\n",
      "60000/60000 [==============================] - 1s 23us/step - loss: 0.1134 - acc: 0.9674 - val_loss: 0.1232 - val_acc: 0.9627\n",
      "Epoch 10/100\n",
      "60000/60000 [==============================] - 1s 23us/step - loss: 0.1052 - acc: 0.9701 - val_loss: 0.1154 - val_acc: 0.9646\n",
      "Epoch 11/100\n",
      "60000/60000 [==============================] - 1s 24us/step - loss: 0.0981 - acc: 0.9720 - val_loss: 0.1101 - val_acc: 0.9673\n",
      "Epoch 12/100\n",
      "60000/60000 [==============================] - 1s 22us/step - loss: 0.0918 - acc: 0.9736 - val_loss: 0.1113 - val_acc: 0.9667\n",
      "Epoch 13/100\n",
      "60000/60000 [==============================] - 1s 20us/step - loss: 0.0864 - acc: 0.9751 - val_loss: 0.1020 - val_acc: 0.9701\n",
      "Epoch 14/100\n",
      "60000/60000 [==============================] - 1s 21us/step - loss: 0.0811 - acc: 0.9767 - val_loss: 0.0988 - val_acc: 0.9701\n",
      "Epoch 15/100\n",
      "60000/60000 [==============================] - 1s 21us/step - loss: 0.0767 - acc: 0.9779 - val_loss: 0.1003 - val_acc: 0.9691\n",
      "Epoch 16/100\n",
      "60000/60000 [==============================] - 1s 21us/step - loss: 0.0723 - acc: 0.9794 - val_loss: 0.0977 - val_acc: 0.9705\n",
      "Epoch 17/100\n",
      "60000/60000 [==============================] - 1s 22us/step - loss: 0.0685 - acc: 0.9804 - val_loss: 0.0939 - val_acc: 0.9720\n",
      "Epoch 18/100\n",
      "60000/60000 [==============================] - 1s 23us/step - loss: 0.0651 - acc: 0.9814 - val_loss: 0.0953 - val_acc: 0.9720\n",
      "Epoch 19/100\n",
      "60000/60000 [==============================] - 1s 23us/step - loss: 0.0617 - acc: 0.9824 - val_loss: 0.0902 - val_acc: 0.9733\n",
      "Epoch 20/100\n",
      "60000/60000 [==============================] - 1s 23us/step - loss: 0.0587 - acc: 0.9834 - val_loss: 0.0905 - val_acc: 0.9731\n",
      "Epoch 21/100\n",
      "60000/60000 [==============================] - 2s 26us/step - loss: 0.0560 - acc: 0.9848 - val_loss: 0.0893 - val_acc: 0.9728\n",
      "Epoch 22/100\n",
      "60000/60000 [==============================] - 2s 26us/step - loss: 0.0537 - acc: 0.9852 - val_loss: 0.0844 - val_acc: 0.9748\n",
      "Epoch 23/100\n",
      "60000/60000 [==============================] - 2s 27us/step - loss: 0.0510 - acc: 0.9859 - val_loss: 0.0881 - val_acc: 0.9732\n",
      "Epoch 24/100\n",
      "60000/60000 [==============================] - 2s 26us/step - loss: 0.0486 - acc: 0.9868 - val_loss: 0.0875 - val_acc: 0.9732\n",
      "Epoch 25/100\n",
      "60000/60000 [==============================] - 2s 26us/step - loss: 0.0466 - acc: 0.9874 - val_loss: 0.0842 - val_acc: 0.9745\n",
      "Epoch 26/100\n",
      "60000/60000 [==============================] - 2s 26us/step - loss: 0.0443 - acc: 0.9884 - val_loss: 0.0845 - val_acc: 0.9740\n",
      "Epoch 27/100\n",
      "60000/60000 [==============================] - 2s 27us/step - loss: 0.0427 - acc: 0.9887 - val_loss: 0.0818 - val_acc: 0.9749\n",
      "Epoch 28/100\n",
      "60000/60000 [==============================] - 2s 26us/step - loss: 0.0405 - acc: 0.9900 - val_loss: 0.0812 - val_acc: 0.9753\n",
      "Epoch 29/100\n",
      "60000/60000 [==============================] - 2s 27us/step - loss: 0.0390 - acc: 0.9900 - val_loss: 0.0804 - val_acc: 0.9752\n",
      "Epoch 30/100\n",
      "60000/60000 [==============================] - 2s 27us/step - loss: 0.0371 - acc: 0.9907 - val_loss: 0.0807 - val_acc: 0.9750\n",
      "Epoch 31/100\n",
      "60000/60000 [==============================] - 2s 28us/step - loss: 0.0356 - acc: 0.9912 - val_loss: 0.0843 - val_acc: 0.9749\n",
      "Epoch 32/100\n",
      "60000/60000 [==============================] - 2s 27us/step - loss: 0.0342 - acc: 0.9919 - val_loss: 0.0817 - val_acc: 0.9753\n",
      "Epoch 33/100\n",
      "60000/60000 [==============================] - 2s 27us/step - loss: 0.0326 - acc: 0.9919 - val_loss: 0.0851 - val_acc: 0.9736\n",
      "Epoch 34/100\n",
      "60000/60000 [==============================] - 2s 26us/step - loss: 0.0312 - acc: 0.9929 - val_loss: 0.0802 - val_acc: 0.9750\n",
      "Epoch 35/100\n",
      "60000/60000 [==============================] - 2s 26us/step - loss: 0.0300 - acc: 0.9931 - val_loss: 0.0820 - val_acc: 0.9748\n",
      "Epoch 36/100\n",
      "60000/60000 [==============================] - 2s 26us/step - loss: 0.0288 - acc: 0.9934 - val_loss: 0.0786 - val_acc: 0.9758\n",
      "Epoch 37/100\n",
      "60000/60000 [==============================] - 2s 27us/step - loss: 0.0273 - acc: 0.9940 - val_loss: 0.0831 - val_acc: 0.9755\n",
      "Epoch 38/100\n",
      "60000/60000 [==============================] - 2s 30us/step - loss: 0.0263 - acc: 0.9942 - val_loss: 0.0792 - val_acc: 0.9750\n",
      "Epoch 39/100\n",
      "60000/60000 [==============================] - 2s 30us/step - loss: 0.0252 - acc: 0.9947 - val_loss: 0.0794 - val_acc: 0.9766\n",
      "Epoch 40/100\n",
      "60000/60000 [==============================] - 2s 27us/step - loss: 0.0240 - acc: 0.9950 - val_loss: 0.0782 - val_acc: 0.9761\n",
      "Epoch 41/100\n",
      "60000/60000 [==============================] - 2s 30us/step - loss: 0.0233 - acc: 0.9953 - val_loss: 0.0785 - val_acc: 0.9753\n",
      "Epoch 42/100\n",
      "60000/60000 [==============================] - 1s 24us/step - loss: 0.0221 - acc: 0.9955 - val_loss: 0.0793 - val_acc: 0.9749\n",
      "Epoch 43/100\n",
      "60000/60000 [==============================] - 2s 26us/step - loss: 0.0213 - acc: 0.9958 - val_loss: 0.0772 - val_acc: 0.9761\n",
      "Epoch 44/100\n",
      "60000/60000 [==============================] - 2s 26us/step - loss: 0.0204 - acc: 0.9961 - val_loss: 0.0864 - val_acc: 0.9739\n",
      "Epoch 45/100\n",
      "60000/60000 [==============================] - 2s 26us/step - loss: 0.0197 - acc: 0.9965 - val_loss: 0.0830 - val_acc: 0.9756\n",
      "Epoch 46/100\n",
      "60000/60000 [==============================] - 2s 26us/step - loss: 0.0189 - acc: 0.9965 - val_loss: 0.0800 - val_acc: 0.9758\n",
      "Epoch 47/100\n",
      "60000/60000 [==============================] - 2s 26us/step - loss: 0.0180 - acc: 0.9970 - val_loss: 0.0773 - val_acc: 0.9759\n",
      "Epoch 48/100\n",
      "60000/60000 [==============================] - 2s 26us/step - loss: 0.0173 - acc: 0.9970 - val_loss: 0.0826 - val_acc: 0.9748\n",
      "Epoch 49/100\n",
      "60000/60000 [==============================] - 2s 27us/step - loss: 0.0166 - acc: 0.9974 - val_loss: 0.0790 - val_acc: 0.9749\n",
      "Epoch 50/100\n",
      "60000/60000 [==============================] - 2s 29us/step - loss: 0.0160 - acc: 0.9975 - val_loss: 0.0782 - val_acc: 0.9765\n",
      "Epoch 51/100\n",
      "60000/60000 [==============================] - 2s 30us/step - loss: 0.0153 - acc: 0.9977 - val_loss: 0.0780 - val_acc: 0.9763\n",
      "Epoch 52/100\n",
      "60000/60000 [==============================] - 2s 29us/step - loss: 0.0148 - acc: 0.9978 - val_loss: 0.0788 - val_acc: 0.9758\n",
      "Epoch 53/100\n",
      "60000/60000 [==============================] - 2s 28us/step - loss: 0.0143 - acc: 0.9981 - val_loss: 0.0793 - val_acc: 0.9764\n",
      "Epoch 54/100\n",
      "60000/60000 [==============================] - 2s 27us/step - loss: 0.0138 - acc: 0.9982 - val_loss: 0.0784 - val_acc: 0.9754\n",
      "Epoch 55/100\n",
      "60000/60000 [==============================] - 2s 28us/step - loss: 0.0131 - acc: 0.9983 - val_loss: 0.0812 - val_acc: 0.9760\n",
      "Epoch 56/100\n",
      "60000/60000 [==============================] - 2s 26us/step - loss: 0.0127 - acc: 0.9986 - val_loss: 0.0801 - val_acc: 0.9764\n",
      "Epoch 57/100\n",
      "60000/60000 [==============================] - 2s 26us/step - loss: 0.0122 - acc: 0.9986 - val_loss: 0.0838 - val_acc: 0.9736\n",
      "Epoch 58/100\n",
      "60000/60000 [==============================] - 2s 26us/step - loss: 0.0117 - acc: 0.9989 - val_loss: 0.0795 - val_acc: 0.9759\n",
      "Epoch 59/100\n",
      "60000/60000 [==============================] - 1s 23us/step - loss: 0.0114 - acc: 0.9989 - val_loss: 0.0809 - val_acc: 0.9756\n",
      "Epoch 60/100\n",
      "60000/60000 [==============================] - 1s 23us/step - loss: 0.0109 - acc: 0.9989 - val_loss: 0.0800 - val_acc: 0.9760\n",
      "Epoch 61/100\n",
      "60000/60000 [==============================] - 1s 24us/step - loss: 0.0105 - acc: 0.9990 - val_loss: 0.0802 - val_acc: 0.9753\n",
      "Epoch 62/100\n",
      "60000/60000 [==============================] - 1s 23us/step - loss: 0.0101 - acc: 0.9991 - val_loss: 0.0810 - val_acc: 0.9756\n",
      "Epoch 63/100\n",
      "60000/60000 [==============================] - 1s 22us/step - loss: 0.0097 - acc: 0.9991 - val_loss: 0.0811 - val_acc: 0.9761\n",
      "Epoch 64/100\n",
      "60000/60000 [==============================] - 1s 22us/step - loss: 0.0094 - acc: 0.9991 - val_loss: 0.0802 - val_acc: 0.9766\n",
      "Epoch 65/100\n",
      "60000/60000 [==============================] - 1s 23us/step - loss: 0.0091 - acc: 0.9993 - val_loss: 0.0799 - val_acc: 0.9758\n",
      "Epoch 66/100\n",
      "60000/60000 [==============================] - 1s 23us/step - loss: 0.0088 - acc: 0.9993 - val_loss: 0.0811 - val_acc: 0.9757\n",
      "Epoch 67/100\n",
      "60000/60000 [==============================] - 1s 23us/step - loss: 0.0085 - acc: 0.9993 - val_loss: 0.0809 - val_acc: 0.9757\n",
      "Epoch 68/100\n",
      "60000/60000 [==============================] - 2s 32us/step - loss: 0.0082 - acc: 0.9993 - val_loss: 0.0827 - val_acc: 0.9767\n",
      "Epoch 69/100\n",
      "60000/60000 [==============================] - 2s 27us/step - loss: 0.0080 - acc: 0.9994 - val_loss: 0.0808 - val_acc: 0.9759\n",
      "Epoch 70/100\n",
      "60000/60000 [==============================] - 1s 25us/step - loss: 0.0076 - acc: 0.9995 - val_loss: 0.0820 - val_acc: 0.9756\n",
      "Epoch 71/100\n",
      "60000/60000 [==============================] - 2s 28us/step - loss: 0.0074 - acc: 0.9996 - val_loss: 0.0814 - val_acc: 0.9760\n",
      "Epoch 72/100\n",
      "60000/60000 [==============================] - 2s 29us/step - loss: 0.0072 - acc: 0.9996 - val_loss: 0.0822 - val_acc: 0.9760\n",
      "Epoch 73/100\n",
      "60000/60000 [==============================] - 2s 29us/step - loss: 0.0069 - acc: 0.9996 - val_loss: 0.0825 - val_acc: 0.9756\n",
      "Epoch 74/100\n",
      "60000/60000 [==============================] - 1s 24us/step - loss: 0.0068 - acc: 0.9996 - val_loss: 0.0827 - val_acc: 0.9760\n",
      "Epoch 75/100\n",
      "60000/60000 [==============================] - 2s 36us/step - loss: 0.0065 - acc: 0.9998 - val_loss: 0.0837 - val_acc: 0.9757\n",
      "Epoch 76/100\n",
      "60000/60000 [==============================] - 2s 35us/step - loss: 0.0063 - acc: 0.9997 - val_loss: 0.0839 - val_acc: 0.9748\n",
      "Epoch 77/100\n",
      "60000/60000 [==============================] - 2s 37us/step - loss: 0.0062 - acc: 0.9997 - val_loss: 0.0834 - val_acc: 0.9763\n",
      "Epoch 78/100\n",
      "60000/60000 [==============================] - 2s 39us/step - loss: 0.0059 - acc: 0.9998 - val_loss: 0.0837 - val_acc: 0.9760\n",
      "Epoch 79/100\n",
      "60000/60000 [==============================] - 1s 22us/step - loss: 0.0058 - acc: 0.9998 - val_loss: 0.0833 - val_acc: 0.9758\n",
      "Epoch 80/100\n",
      "60000/60000 [==============================] - 2s 27us/step - loss: 0.0056 - acc: 0.9998 - val_loss: 0.0841 - val_acc: 0.9755\n",
      "Epoch 81/100\n",
      "60000/60000 [==============================] - 2s 37us/step - loss: 0.0055 - acc: 0.9998 - val_loss: 0.0865 - val_acc: 0.9752\n",
      "Epoch 82/100\n",
      "60000/60000 [==============================] - 1s 25us/step - loss: 0.0053 - acc: 0.9998 - val_loss: 0.0856 - val_acc: 0.9762\n",
      "Epoch 83/100\n",
      "60000/60000 [==============================] - 2s 34us/step - loss: 0.0052 - acc: 0.9999 - val_loss: 0.0840 - val_acc: 0.9760\n",
      "Epoch 84/100\n",
      "60000/60000 [==============================] - 2s 30us/step - loss: 0.0051 - acc: 0.9999 - val_loss: 0.0845 - val_acc: 0.9757\n",
      "Epoch 85/100\n",
      "60000/60000 [==============================] - 2s 27us/step - loss: 0.0049 - acc: 0.9999 - val_loss: 0.0844 - val_acc: 0.9764\n",
      "Epoch 86/100\n",
      "60000/60000 [==============================] - 2s 28us/step - loss: 0.0048 - acc: 0.9999 - val_loss: 0.0849 - val_acc: 0.9761\n",
      "Epoch 87/100\n",
      "60000/60000 [==============================] - 2s 29us/step - loss: 0.0046 - acc: 0.9999 - val_loss: 0.0848 - val_acc: 0.9760\n",
      "Epoch 88/100\n",
      "60000/60000 [==============================] - 2s 31us/step - loss: 0.0045 - acc: 0.9999 - val_loss: 0.0852 - val_acc: 0.9768\n",
      "Epoch 89/100\n",
      "60000/60000 [==============================] - 2s 28us/step - loss: 0.0044 - acc: 1.0000 - val_loss: 0.0854 - val_acc: 0.9757\n",
      "Epoch 90/100\n",
      "60000/60000 [==============================] - 2s 28us/step - loss: 0.0043 - acc: 0.9999 - val_loss: 0.0853 - val_acc: 0.9766\n",
      "Epoch 91/100\n",
      "60000/60000 [==============================] - 2s 29us/step - loss: 0.0042 - acc: 1.0000 - val_loss: 0.0855 - val_acc: 0.9763\n",
      "Epoch 92/100\n",
      "60000/60000 [==============================] - 2s 29us/step - loss: 0.0041 - acc: 0.9999 - val_loss: 0.0859 - val_acc: 0.9763\n",
      "Epoch 93/100\n",
      "60000/60000 [==============================] - 2s 28us/step - loss: 0.0040 - acc: 1.0000 - val_loss: 0.0857 - val_acc: 0.9762\n",
      "Epoch 94/100\n",
      "60000/60000 [==============================] - 2s 28us/step - loss: 0.0039 - acc: 1.0000 - val_loss: 0.0865 - val_acc: 0.9761\n",
      "Epoch 95/100\n",
      "60000/60000 [==============================] - 2s 29us/step - loss: 0.0038 - acc: 1.0000 - val_loss: 0.0862 - val_acc: 0.9761\n",
      "Epoch 96/100\n",
      "60000/60000 [==============================] - 2s 29us/step - loss: 0.0038 - acc: 1.0000 - val_loss: 0.0864 - val_acc: 0.9761\n",
      "Epoch 97/100\n",
      "60000/60000 [==============================] - 2s 31us/step - loss: 0.0037 - acc: 1.0000 - val_loss: 0.0874 - val_acc: 0.9764\n",
      "Epoch 98/100\n",
      "60000/60000 [==============================] - 2s 32us/step - loss: 0.0036 - acc: 1.0000 - val_loss: 0.0870 - val_acc: 0.9761\n",
      "Epoch 99/100\n",
      "60000/60000 [==============================] - 2s 28us/step - loss: 0.0035 - acc: 1.0000 - val_loss: 0.0867 - val_acc: 0.9761\n",
      "Epoch 100/100\n",
      "60000/60000 [==============================] - 2s 26us/step - loss: 0.0034 - acc: 1.0000 - val_loss: 0.0869 - val_acc: 0.9765\n"
     ]
    }
   ],
   "source": [
    "# Nuevo learning rate al ojo:\n",
    "lr_2=3e-2\n",
    "\n",
    "# Entrenamiento con el nuevo hiperparametro:\n",
    "reset_weights(model_2)\n",
    "model_2.compile(SGD(lr_2), loss = 'sparse_categorical_crossentropy', metrics=['accuracy'])\n",
    "\n",
    "log_2=model_2.fit(x_train, y_train, batch_size = batch_size, epochs=100, validation_data=[x_test, y_test])"
   ]
  },
  {
   "cell_type": "code",
   "execution_count": 94,
   "metadata": {},
   "outputs": [
    {
     "name": "stdout",
     "output_type": "stream",
     "text": [
      "10000/10000 [==============================] - 0s 12us/step\n",
      "Final Loss Value = 0.0869\n",
      "Final Accuracy   = 0.9765\n"
     ]
    },
    {
     "data": {
      "image/png": "[encoded data removed]",
      "text/plain": [
       "<Figure size 1008x288 with 2 Axes>"
      ]
     },
     "metadata": {},
     "output_type": "display_data"
    }
   ],
   "source": [
    "# Ploteamos los resultados del segundo modelo:\n",
    "show_results(model = model_2, log=log_2, cycling=False)"
   ]
  },
  {
   "cell_type": "markdown",
   "metadata": {},
   "source": [
    "Notamos que los esfuerzos por establecer un buen ratio de aprendizaje no tuvieron mucho impacto en la nueva solución, dada la naturaleza del problema. Entonces, podremos intentar otros ajustes a los demás hiperparametros, con la esperanza de poder mejorar el accuracy general."
   ]
  }
 ],
 "metadata": {
  "kernelspec": {
   "display_name": "Python 3",
   "language": "python",
   "name": "python3"
  },
  "language_info": {
   "codemirror_mode": {
    "name": "ipython",
    "version": 3
   },
   "file_extension": ".py",
   "mimetype": "text/x-python",
   "name": "python",
   "nbconvert_exporter": "python",
   "pygments_lexer": "ipython3",
   "version": "3.6.5"
  },
  "toc": {
   "base_numbering": 1,
   "nav_menu": {},
   "number_sections": true,
   "sideBar": true,
   "skip_h1_title": false,
   "title_cell": "Table of Contents",
   "title_sidebar": "Contents",
   "toc_cell": false,
   "toc_position": {},
   "toc_section_display": true,
   "toc_window_display": false
  },
  "varInspector": {
   "cols": {
    "lenName": 16,
    "lenType": 16,
    "lenVar": 40
   },
   "kernels_config": {
    "python": {
     "delete_cmd_postfix": "",
     "delete_cmd_prefix": "del ",
     "library": "var_list.py",
     "varRefreshCmd": "print(var_dic_list())"
    },
    "r": {
     "delete_cmd_postfix": ") ",
     "delete_cmd_prefix": "rm(",
     "library": "var_list.r",
     "varRefreshCmd": "cat(var_dic_list()) "
    }
   },
   "types_to_exclude": [
    "module",
    "function",
    "builtin_function_or_method",
    "instance",
    "_Feature"
   ],
   "window_display": false
  }
 },
 "nbformat": 4,
 "nbformat_minor": 2
}
